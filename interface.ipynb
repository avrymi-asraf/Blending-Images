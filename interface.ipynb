{
 "cells": [
  {
   "cell_type": "markdown",
   "metadata": {},
   "source": [
    "# Image Blending Interface\n",
    "This notebook demonstrates the use of various image processing functions from `tools.py`."
   ]
  },
  {
   "cell_type": "code",
   "execution_count": 1,
   "metadata": {},
   "outputs": [],
   "source": [
    "import plotly.express as px"
   ]
  },
  {
   "cell_type": "code",
   "execution_count": null,
   "metadata": {},
   "outputs": [],
   "source": [
    "import numpy as np\n",
    "from tools import load_image, save_image, display_image, gaussian_blur, generate_gaussian_pyramid, generate_laplacian_pyramid\n",
    "\n",
    "# Load an image\n",
    "image = load_image('data//hawk_tuah.webp')\n",
    "display_image(image)\n",
    "\n",
    "# Apply Gaussian blur\n",
    "blurred_image = gaussian_blur(image, sigma=10)\n",
    "display_image(blurred_image)\n",
    "\n",
    "# Generate Gaussian pyramid\n",
    "gaussian_pyramid = generate_gaussian_pyramid(image, levels=10,kernel_size=11)\n",
    "for level, img in enumerate(gaussian_pyramid):\n",
    "    print(f'Gaussian Pyramid Level {level}, dimensions: {img.shape}')\n",
    "    display_image(img)\n",
    "\n",
    "# Generate Laplacian pyramid\n",
    "laplacian_pyramid = generate_laplacian_pyramid(image, levels=10,kernel_size=11)\n",
    "for level, img in enumerate(laplacian_pyramid):\n",
    "    print(f'Laplacian Pyramid Level {level}, dimensions: {img.shape}')\n",
    "    display_image(img)\n",
    "\n",
    "# Save the blurred image\n",
    "save_image(blurred_image, 'data//blurred_image.jpg')\n"
   ]
  }
 ],
 "metadata": {
  "kernelspec": {
   "display_name": "ImageProsEnv",
   "language": "python",
   "name": "python3"
  },
  "language_info": {
   "codemirror_mode": {
    "name": "ipython",
    "version": 3
   },
   "file_extension": ".py",
   "mimetype": "text/x-python",
   "name": "python",
   "nbconvert_exporter": "python",
   "pygments_lexer": "ipython3",
   "version": "3.10.12"
  }
 },
 "nbformat": 4,
 "nbformat_minor": 2
}
